{
 "cells": [
  {
   "cell_type": "code",
   "execution_count": 1,
   "id": "a1adbbdd",
   "metadata": {},
   "outputs": [
    {
     "name": "stdout",
     "output_type": "stream",
     "text": [
      "Requirement already satisfied: langchain in c:\\users\\mabdu\\appdata\\local\\programs\\python\\python310\\lib\\site-packages (0.3.27)\n",
      "Requirement already satisfied: langchain-groq in c:\\users\\mabdu\\appdata\\local\\programs\\python\\python310\\lib\\site-packages (0.3.7)\n",
      "Requirement already satisfied: python-dotenv in c:\\users\\mabdu\\appdata\\local\\programs\\python\\python310\\lib\\site-packages (1.1.1)\n",
      "Requirement already satisfied: streamlit in c:\\users\\mabdu\\appdata\\local\\programs\\python\\python310\\lib\\site-packages (1.37.0)\n",
      "Requirement already satisfied: langchain-core<1.0.0,>=0.3.72 in c:\\users\\mabdu\\appdata\\local\\programs\\python\\python310\\lib\\site-packages (from langchain) (0.3.74)\n",
      "Requirement already satisfied: langchain-text-splitters<1.0.0,>=0.3.9 in c:\\users\\mabdu\\appdata\\local\\programs\\python\\python310\\lib\\site-packages (from langchain) (0.3.9)\n",
      "Requirement already satisfied: langsmith>=0.1.17 in c:\\users\\mabdu\\appdata\\local\\programs\\python\\python310\\lib\\site-packages (from langchain) (0.4.15)\n",
      "Requirement already satisfied: pydantic<3.0.0,>=2.7.4 in c:\\users\\mabdu\\appdata\\local\\programs\\python\\python310\\lib\\site-packages (from langchain) (2.11.7)\n",
      "Requirement already satisfied: SQLAlchemy<3,>=1.4 in c:\\users\\mabdu\\appdata\\local\\programs\\python\\python310\\lib\\site-packages (from langchain) (2.0.43)\n",
      "Requirement already satisfied: requests<3,>=2 in c:\\users\\mabdu\\appdata\\local\\programs\\python\\python310\\lib\\site-packages (from langchain) (2.32.4)\n",
      "Requirement already satisfied: PyYAML>=5.3 in c:\\users\\mabdu\\appdata\\local\\programs\\python\\python310\\lib\\site-packages (from langchain) (6.0.2)\n",
      "Requirement already satisfied: async-timeout<5.0.0,>=4.0.0 in c:\\users\\mabdu\\appdata\\local\\programs\\python\\python310\\lib\\site-packages (from langchain) (4.0.3)\n",
      "Requirement already satisfied: tenacity!=8.4.0,<10.0.0,>=8.1.0 in c:\\users\\mabdu\\appdata\\local\\programs\\python\\python310\\lib\\site-packages (from langchain-core<1.0.0,>=0.3.72->langchain) (8.5.0)\n",
      "Requirement already satisfied: jsonpatch<2.0,>=1.33 in c:\\users\\mabdu\\appdata\\local\\programs\\python\\python310\\lib\\site-packages (from langchain-core<1.0.0,>=0.3.72->langchain) (1.33)\n",
      "Requirement already satisfied: typing-extensions>=4.7 in c:\\users\\mabdu\\appdata\\roaming\\python\\python310\\site-packages (from langchain-core<1.0.0,>=0.3.72->langchain) (4.14.1)\n",
      "Requirement already satisfied: packaging>=23.2 in c:\\users\\mabdu\\appdata\\local\\programs\\python\\python310\\lib\\site-packages (from langchain-core<1.0.0,>=0.3.72->langchain) (24.2)\n",
      "Requirement already satisfied: jsonpointer>=1.9 in c:\\users\\mabdu\\appdata\\local\\programs\\python\\python310\\lib\\site-packages (from jsonpatch<2.0,>=1.33->langchain-core<1.0.0,>=0.3.72->langchain) (3.0.0)\n",
      "Requirement already satisfied: annotated-types>=0.6.0 in c:\\users\\mabdu\\appdata\\local\\programs\\python\\python310\\lib\\site-packages (from pydantic<3.0.0,>=2.7.4->langchain) (0.7.0)\n",
      "Requirement already satisfied: pydantic-core==2.33.2 in c:\\users\\mabdu\\appdata\\local\\programs\\python\\python310\\lib\\site-packages (from pydantic<3.0.0,>=2.7.4->langchain) (2.33.2)\n",
      "Requirement already satisfied: typing-inspection>=0.4.0 in c:\\users\\mabdu\\appdata\\local\\programs\\python\\python310\\lib\\site-packages (from pydantic<3.0.0,>=2.7.4->langchain) (0.4.1)\n",
      "Requirement already satisfied: charset_normalizer<4,>=2 in c:\\users\\mabdu\\appdata\\local\\programs\\python\\python310\\lib\\site-packages (from requests<3,>=2->langchain) (3.4.2)\n",
      "Requirement already satisfied: idna<4,>=2.5 in c:\\users\\mabdu\\appdata\\local\\programs\\python\\python310\\lib\\site-packages (from requests<3,>=2->langchain) (3.10)\n",
      "Requirement already satisfied: urllib3<3,>=1.21.1 in c:\\users\\mabdu\\appdata\\local\\programs\\python\\python310\\lib\\site-packages (from requests<3,>=2->langchain) (2.5.0)\n",
      "Requirement already satisfied: certifi>=2017.4.17 in c:\\users\\mabdu\\appdata\\local\\programs\\python\\python310\\lib\\site-packages (from requests<3,>=2->langchain) (2025.8.3)\n",
      "Requirement already satisfied: greenlet>=1 in c:\\users\\mabdu\\appdata\\local\\programs\\python\\python310\\lib\\site-packages (from SQLAlchemy<3,>=1.4->langchain) (3.2.4)\n",
      "Requirement already satisfied: groq<1,>=0.30.0 in c:\\users\\mabdu\\appdata\\local\\programs\\python\\python310\\lib\\site-packages (from langchain-groq) (0.31.0)\n",
      "Requirement already satisfied: anyio<5,>=3.5.0 in c:\\users\\mabdu\\appdata\\local\\programs\\python\\python310\\lib\\site-packages (from groq<1,>=0.30.0->langchain-groq) (4.10.0)\n",
      "Requirement already satisfied: distro<2,>=1.7.0 in c:\\users\\mabdu\\appdata\\local\\programs\\python\\python310\\lib\\site-packages (from groq<1,>=0.30.0->langchain-groq) (1.9.0)\n",
      "Requirement already satisfied: httpx<1,>=0.23.0 in c:\\users\\mabdu\\appdata\\local\\programs\\python\\python310\\lib\\site-packages (from groq<1,>=0.30.0->langchain-groq) (0.28.1)\n",
      "Requirement already satisfied: sniffio in c:\\users\\mabdu\\appdata\\local\\programs\\python\\python310\\lib\\site-packages (from groq<1,>=0.30.0->langchain-groq) (1.3.1)\n",
      "Requirement already satisfied: exceptiongroup>=1.0.2 in c:\\users\\mabdu\\appdata\\roaming\\python\\python310\\site-packages (from anyio<5,>=3.5.0->groq<1,>=0.30.0->langchain-groq) (1.3.0)\n",
      "Requirement already satisfied: httpcore==1.* in c:\\users\\mabdu\\appdata\\local\\programs\\python\\python310\\lib\\site-packages (from httpx<1,>=0.23.0->groq<1,>=0.30.0->langchain-groq) (1.0.9)\n",
      "Requirement already satisfied: h11>=0.16 in c:\\users\\mabdu\\appdata\\local\\programs\\python\\python310\\lib\\site-packages (from httpcore==1.*->httpx<1,>=0.23.0->groq<1,>=0.30.0->langchain-groq) (0.16.0)\n",
      "Requirement already satisfied: altair<6,>=4.0 in c:\\users\\mabdu\\appdata\\local\\programs\\python\\python310\\lib\\site-packages (from streamlit) (5.5.0)\n",
      "Requirement already satisfied: blinker<2,>=1.0.0 in c:\\users\\mabdu\\appdata\\local\\programs\\python\\python310\\lib\\site-packages (from streamlit) (1.9.0)\n",
      "Requirement already satisfied: cachetools<6,>=4.0 in c:\\users\\mabdu\\appdata\\local\\programs\\python\\python310\\lib\\site-packages (from streamlit) (5.5.2)\n",
      "Requirement already satisfied: click<9,>=7.0 in c:\\users\\mabdu\\appdata\\local\\programs\\python\\python310\\lib\\site-packages (from streamlit) (8.1.8)\n",
      "Requirement already satisfied: numpy<3,>=1.20 in c:\\users\\mabdu\\appdata\\local\\programs\\python\\python310\\lib\\site-packages (from streamlit) (2.2.6)\n",
      "Requirement already satisfied: pandas<3,>=1.3.0 in c:\\users\\mabdu\\appdata\\local\\programs\\python\\python310\\lib\\site-packages (from streamlit) (2.3.1)\n",
      "Requirement already satisfied: pillow<11,>=7.1.0 in c:\\users\\mabdu\\appdata\\local\\programs\\python\\python310\\lib\\site-packages (from streamlit) (10.4.0)\n",
      "Requirement already satisfied: protobuf<6,>=3.20 in c:\\users\\mabdu\\appdata\\local\\programs\\python\\python310\\lib\\site-packages (from streamlit) (5.29.5)\n",
      "Requirement already satisfied: pyarrow>=7.0 in c:\\users\\mabdu\\appdata\\local\\programs\\python\\python310\\lib\\site-packages (from streamlit) (21.0.0)\n",
      "Requirement already satisfied: rich<14,>=10.14.0 in c:\\users\\mabdu\\appdata\\local\\programs\\python\\python310\\lib\\site-packages (from streamlit) (13.9.4)\n",
      "Requirement already satisfied: toml<2,>=0.10.1 in c:\\users\\mabdu\\appdata\\local\\programs\\python\\python310\\lib\\site-packages (from streamlit) (0.10.2)\n",
      "Requirement already satisfied: gitpython!=3.1.19,<4,>=3.0.7 in c:\\users\\mabdu\\appdata\\local\\programs\\python\\python310\\lib\\site-packages (from streamlit) (3.1.45)\n",
      "Requirement already satisfied: pydeck<1,>=0.8.0b4 in c:\\users\\mabdu\\appdata\\local\\programs\\python\\python310\\lib\\site-packages (from streamlit) (0.9.1)\n",
      "Requirement already satisfied: tornado<7,>=6.0.3 in c:\\users\\mabdu\\appdata\\roaming\\python\\python310\\site-packages (from streamlit) (6.5.1)\n",
      "Requirement already satisfied: watchdog<5,>=2.1.5 in c:\\users\\mabdu\\appdata\\local\\programs\\python\\python310\\lib\\site-packages (from streamlit) (4.0.2)\n",
      "Requirement already satisfied: jinja2 in c:\\users\\mabdu\\appdata\\local\\programs\\python\\python310\\lib\\site-packages (from altair<6,>=4.0->streamlit) (3.1.6)\n",
      "Requirement already satisfied: jsonschema>=3.0 in c:\\users\\mabdu\\appdata\\local\\programs\\python\\python310\\lib\\site-packages (from altair<6,>=4.0->streamlit) (4.25.0)\n",
      "Requirement already satisfied: narwhals>=1.14.2 in c:\\users\\mabdu\\appdata\\local\\programs\\python\\python310\\lib\\site-packages (from altair<6,>=4.0->streamlit) (2.0.1)\n",
      "Requirement already satisfied: colorama in c:\\users\\mabdu\\appdata\\roaming\\python\\python310\\site-packages (from click<9,>=7.0->streamlit) (0.4.6)\n",
      "Requirement already satisfied: gitdb<5,>=4.0.1 in c:\\users\\mabdu\\appdata\\local\\programs\\python\\python310\\lib\\site-packages (from gitpython!=3.1.19,<4,>=3.0.7->streamlit) (4.0.12)\n",
      "Requirement already satisfied: smmap<6,>=3.0.1 in c:\\users\\mabdu\\appdata\\local\\programs\\python\\python310\\lib\\site-packages (from gitdb<5,>=4.0.1->gitpython!=3.1.19,<4,>=3.0.7->streamlit) (5.0.2)\n",
      "Requirement already satisfied: python-dateutil>=2.8.2 in c:\\users\\mabdu\\appdata\\roaming\\python\\python310\\site-packages (from pandas<3,>=1.3.0->streamlit) (2.9.0.post0)\n",
      "Requirement already satisfied: pytz>=2020.1 in c:\\users\\mabdu\\appdata\\local\\programs\\python\\python310\\lib\\site-packages (from pandas<3,>=1.3.0->streamlit) (2025.2)\n",
      "Requirement already satisfied: tzdata>=2022.7 in c:\\users\\mabdu\\appdata\\local\\programs\\python\\python310\\lib\\site-packages (from pandas<3,>=1.3.0->streamlit) (2025.2)\n",
      "Requirement already satisfied: markdown-it-py>=2.2.0 in c:\\users\\mabdu\\appdata\\local\\programs\\python\\python310\\lib\\site-packages (from rich<14,>=10.14.0->streamlit) (3.0.0)\n",
      "Requirement already satisfied: pygments<3.0.0,>=2.13.0 in c:\\users\\mabdu\\appdata\\roaming\\python\\python310\\site-packages (from rich<14,>=10.14.0->streamlit) (2.19.2)\n",
      "Requirement already satisfied: MarkupSafe>=2.0 in c:\\users\\mabdu\\appdata\\local\\programs\\python\\python310\\lib\\site-packages (from jinja2->altair<6,>=4.0->streamlit) (3.0.2)\n",
      "Requirement already satisfied: attrs>=22.2.0 in c:\\users\\mabdu\\appdata\\local\\programs\\python\\python310\\lib\\site-packages (from jsonschema>=3.0->altair<6,>=4.0->streamlit) (25.3.0)\n",
      "Requirement already satisfied: jsonschema-specifications>=2023.03.6 in c:\\users\\mabdu\\appdata\\local\\programs\\python\\python310\\lib\\site-packages (from jsonschema>=3.0->altair<6,>=4.0->streamlit) (2025.4.1)\n",
      "Requirement already satisfied: referencing>=0.28.4 in c:\\users\\mabdu\\appdata\\local\\programs\\python\\python310\\lib\\site-packages (from jsonschema>=3.0->altair<6,>=4.0->streamlit) (0.36.2)\n",
      "Requirement already satisfied: rpds-py>=0.7.1 in c:\\users\\mabdu\\appdata\\local\\programs\\python\\python310\\lib\\site-packages (from jsonschema>=3.0->altair<6,>=4.0->streamlit) (0.26.0)\n",
      "Requirement already satisfied: orjson>=3.9.14 in c:\\users\\mabdu\\appdata\\local\\programs\\python\\python310\\lib\\site-packages (from langsmith>=0.1.17->langchain) (3.11.1)\n",
      "Requirement already satisfied: requests-toolbelt>=1.0.0 in c:\\users\\mabdu\\appdata\\local\\programs\\python\\python310\\lib\\site-packages (from langsmith>=0.1.17->langchain) (1.0.0)\n",
      "Requirement already satisfied: zstandard>=0.23.0 in c:\\users\\mabdu\\appdata\\local\\programs\\python\\python310\\lib\\site-packages (from langsmith>=0.1.17->langchain) (0.24.0)\n",
      "Requirement already satisfied: mdurl~=0.1 in c:\\users\\mabdu\\appdata\\local\\programs\\python\\python310\\lib\\site-packages (from markdown-it-py>=2.2.0->rich<14,>=10.14.0->streamlit) (0.1.2)\n",
      "Requirement already satisfied: six>=1.5 in c:\\users\\mabdu\\appdata\\roaming\\python\\python310\\site-packages (from python-dateutil>=2.8.2->pandas<3,>=1.3.0->streamlit) (1.17.0)\n"
     ]
    }
   ],
   "source": [
    "! pip install langchain langchain-groq python-dotenv streamlit"
   ]
  },
  {
   "cell_type": "code",
   "execution_count": 2,
   "id": "4dda4bd3",
   "metadata": {},
   "outputs": [],
   "source": [
    "import os\n",
    "from dotenv import load_dotenv\n",
    "from langchain_groq import ChatGroq\n",
    "from langchain_core.prompts import ChatPromptTemplate, MessagesPlaceholder\n",
    "from langchain_core.messages import HumanMessage\n",
    "from langchain_community.chat_message_histories import ChatMessageHistory\n",
    "from langchain_core.chat_history import BaseChatMessageHistory\n",
    "from langchain_core.runnables.history import RunnableWithMessageHistory\n",
    "\n",
    "load_dotenv()\n",
    "GROQ_API_KEY = os.getenv(\"GROQ_API_KEY\")\n",
    "if not GROQ_API_KEY:\n",
    "    raise RuntimeError(\"❌ Missing GROQ_API_KEY in .env\")"
   ]
  },
  {
   "cell_type": "code",
   "execution_count": 3,
   "id": "c6bdc6fb",
   "metadata": {},
   "outputs": [],
   "source": [
    "model = ChatGroq(\n",
    "    model=\"llama-3.3-70b-versatile\",\n",
    "    api_key=GROQ_API_KEY\n",
    ")"
   ]
  },
  {
   "cell_type": "code",
   "execution_count": 4,
   "id": "0faae86c",
   "metadata": {},
   "outputs": [],
   "source": [
    "store = {}\n",
    "def get_session_history(session_id: str) -> BaseChatMessageHistory:\n",
    "    if session_id not in store:\n",
    "        store[session_id] = ChatMessageHistory()\n",
    "    return store[session_id]"
   ]
  },
  {
   "cell_type": "code",
   "execution_count": 5,
   "id": "77b6a3f9",
   "metadata": {},
   "outputs": [],
   "source": [
    "myth_system_prompt = ChatPromptTemplate.from_messages([\n",
    "    (\"system\", \"\"\"\n",
    "You are 🕵️ Myth Buster Bot.\n",
    "Your job:\n",
    "1. Detect if the statement is a Myth ❌ or Fact ✅.\n",
    "2. Give short, reliable explanation with reference (WHO, Harvard, Wikipedia).\n",
    "3. Categorize into: Health, Science, History, Life.\n",
    "4. Fun Mode: if question is entertaining (aliens, superstition), give light-hearted factual reply.\n",
    "Return as JSON with keys: verdict, category, explanation, reference.\n",
    "\"\"\"),\n",
    "    MessagesPlaceholder(variable_name=\"messages\")\n",
    "])"
   ]
  },
  {
   "cell_type": "code",
   "execution_count": 6,
   "id": "5771d3d2",
   "metadata": {},
   "outputs": [],
   "source": [
    "chain = myth_system_prompt | model\n",
    "with_message_history = RunnableWithMessageHistory(\n",
    "    chain,\n",
    "    get_session_history=get_session_history,\n",
    "    input_messages_key=\"messages\"\n",
    ")"
   ]
  },
  {
   "cell_type": "code",
   "execution_count": 7,
   "id": "1b4ef061",
   "metadata": {},
   "outputs": [],
   "source": [
    "def myth_buster_query(user_input: str, session_id: str = \"user_123\") -> str:\n",
    "    \"\"\"\n",
    "    Call this function with user input and session_id.\n",
    "    Returns bot response as string (JSON format recommended for parsing).\n",
    "    \"\"\"\n",
    "    response = with_message_history.invoke(\n",
    "        {\"messages\": [HumanMessage(content=user_input)]},\n",
    "        config={\"configurable\": {\"session_id\": session_id}}\n",
    "    )\n",
    "    return response.content"
   ]
  },
  {
   "cell_type": "code",
   "execution_count": 8,
   "id": "1f2cc9e1",
   "metadata": {},
   "outputs": [
    {
     "name": "stdout",
     "output_type": "stream",
     "text": [
      "Myth Buster Response:\n",
      " ```json\n",
      "{\n",
      "  \"verdict\": \"Myth ❌\",\n",
      "  \"category\": \"Health\",\n",
      "  \"explanation\": \"While milk is rich in calcium, which is essential for bone growth, there is no conclusive evidence to suggest that it directly increases height. Height is primarily determined by genetics, and other factors such as overall nutrition and exercise play a larger role.\",\n",
      "  \"reference\": \"World Health Organization (WHO) - Nutrition and bone health\"\n",
      "}\n",
      "```\n"
     ]
    }
   ],
   "source": [
    "# Cell 8: Example Usage - Myth Query\n",
    "session_id = \"user_123\"\n",
    "response = myth_buster_query(\"Milk increases height?\", session_id)\n",
    "print(\"Myth Buster Response:\\n\", response)"
   ]
  },
  {
   "cell_type": "code",
   "execution_count": 9,
   "id": "3d0b8afc",
   "metadata": {},
   "outputs": [
    {
     "name": "stdout",
     "output_type": "stream",
     "text": [
      "Fun Mode Response:\n",
      " ```json\n",
      "{\n",
      "  \"verdict\": \"Myth ❌\",\n",
      "  \"category\": \"Science\",\n",
      "  \"explanation\": \"While the possibility of extraterrestrial life is considered to be quite high by many scientists, there is currently no conclusive evidence to prove the existence of aliens. However, the search for life beyond Earth continues, with NASA and other space agencies actively exploring the universe for signs of life.\",\n",
      "  \"reference\": \"NASA - Exoplanet Exploration\"\n",
      "}\n",
      "```\n"
     ]
    }
   ],
   "source": [
    "# Cell 9: Example Usage - Fun Mode\n",
    "response2 = myth_buster_query(\"Aliens are real?\", session_id)\n",
    "print(\"Fun Mode Response:\\n\", response2)"
   ]
  },
  {
   "cell_type": "code",
   "execution_count": 10,
   "id": "7f79c432",
   "metadata": {},
   "outputs": [
    {
     "name": "stdout",
     "output_type": "stream",
     "text": [
      "Quiz Mode Response:\n",
      " ```json\n",
      "{\n",
      "  \"verdict\": \"Myth ❌\",\n",
      "  \"category\": \"Health\",\n",
      "  \"explanation\": \"Numerous studies have shown that sugar does not directly cause hyperactivity in children. The idea that sugar leads to hyperactivity is a common myth with no scientific basis. The American Academy of Pediatrics and other reputable health organizations have found no link between sugar consumption and hyperactivity.\",\n",
      "  \"reference\": \"American Academy of Pediatrics - Sugar and Hyperactivity\"\n",
      "}\n",
      "```\n"
     ]
    }
   ],
   "source": [
    "# Cell 10: Example Usage - Quiz Mode\n",
    "quiz_question = \"Sugar causes hyperactivity in kids\"\n",
    "response3 = myth_buster_query(f\"Quiz: True or False? {quiz_question}\", session_id)\n",
    "print(\"Quiz Mode Response:\\n\", response3)"
   ]
  },
  {
   "cell_type": "code",
   "execution_count": 11,
   "id": "55fab366",
   "metadata": {},
   "outputs": [
    {
     "name": "stdout",
     "output_type": "stream",
     "text": [
      "Session2 Response:\n",
      " ```json\n",
      "{\n",
      "  \"verdict\": \"Myth ❌\",\n",
      "  \"category\": \"Health\",\n",
      "  \"explanation\": \"Eggs have been shown to have a minimal effect on cholesterol levels for most people. The biggest influence on cholesterol levels is the amount of saturated and trans fats in the diet, not dietary cholesterol.\",\n",
      "  \"reference\": \"American Heart Association (AHA) and Harvard School of Public Health\"\n",
      "}\n",
      "```\n"
     ]
    }
   ],
   "source": [
    "# Cell 11: Multiple session example (optional)\n",
    "session2 = \"user_456\"\n",
    "response4 = myth_buster_query(\"Do eggs increase cholesterol?\", session2)\n",
    "print(\"Session2 Response:\\n\", response4)"
   ]
  }
 ],
 "metadata": {
  "kernelspec": {
   "display_name": "Python 3",
   "language": "python",
   "name": "python3"
  },
  "language_info": {
   "codemirror_mode": {
    "name": "ipython",
    "version": 3
   },
   "file_extension": ".py",
   "mimetype": "text/x-python",
   "name": "python",
   "nbconvert_exporter": "python",
   "pygments_lexer": "ipython3",
   "version": "3.10.0"
  }
 },
 "nbformat": 4,
 "nbformat_minor": 5
}
